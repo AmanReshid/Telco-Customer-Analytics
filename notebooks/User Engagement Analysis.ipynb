{
 "cells": [
  {
   "cell_type": "code",
   "execution_count": null,
   "metadata": {},
   "outputs": [],
   "source": [
    "import sys\n",
    "import os\n",
    "import pandas as pd\n",
    "import seaborn as sns\n",
    "import matplotlib.pyplot as plt\n",
    "from sklearn.cluster import KMeans\n",
    "from sklearn.preprocessing import MinMaxScaler\n",
    "from sklearn.preprocessing import StandardScaler\n",
    "sys.path.append(os.path.abspath('../src'))"
   ]
  },
  {
   "cell_type": "code",
   "execution_count": null,
   "metadata": {},
   "outputs": [],
   "source": [
    "from load_data import load_data_using_sqlalchemy"
   ]
  },
  {
   "cell_type": "markdown",
   "metadata": {},
   "source": []
  },
  {
   "cell_type": "code",
   "execution_count": null,
   "metadata": {},
   "outputs": [],
   "source": [
    "\n",
    "# Define your SQL query\n",
    "query = \"SELECT * FROM clenedxdr_data;\"  \n",
    "\n",
    "# Load data from PostgreSQL using SQLAlchemy\n",
    "df = load_data_using_sqlalchemy(query)\n",
    "\n",
    "# Display the first few rows of the dataframe\n",
    "if df is not None:\n",
    "    print(\"Successfully loaded the data\")\n",
    "else:\n",
    "    print(\"Failed to load data.\")"
   ]
  },
  {
   "cell_type": "markdown",
   "metadata": {},
   "source": [
    "grouping data by mssisdn and aggregating the data"
   ]
  },
  {
   "cell_type": "code",
   "execution_count": null,
   "metadata": {},
   "outputs": [],
   "source": [
    "grouped_df = df.groupby('MSISDN/Number').agg({\n",
    "    'Dur. (s)': 'sum',\n",
    "    'Total DL (Megabytes)': 'sum',\n",
    "    'Total UL (Megabytes)': 'sum',\n",
    "    'Activity Duration DL (s)': 'sum',\n",
    "    'Activity Duration UL (s)': 'sum'\n",
    "}).reset_index()"
   ]
  },
  {
   "cell_type": "code",
   "execution_count": null,
   "metadata": {},
   "outputs": [],
   "source": [
    "grouped_df['Total Traffic (Megabytes)'] = grouped_df['Total DL (Megabytes)'] + grouped_df['Total UL (Megabytes)']"
   ]
  },
  {
   "cell_type": "code",
   "execution_count": null,
   "metadata": {},
   "outputs": [],
   "source": [
    "#Sorting and Reporting Top 10 Customers\n",
    "top_10_duration = grouped_df.sort_values(by='Dur. (s)', ascending=False).head(10)\n",
    "top_10_download = grouped_df.sort_values(by='Total DL (Megabytes)', ascending=False).head(10)\n",
    "top_10_upload = grouped_df.sort_values(by='Total UL (Megabytes)', ascending=False).head(10)"
   ]
  },
  {
   "cell_type": "code",
   "execution_count": null,
   "metadata": {},
   "outputs": [],
   "source": [
    "print(\"Top 10 customers by session duration:\")\n",
    "print(top_10_duration)"
   ]
  },
  {
   "cell_type": "code",
   "execution_count": null,
   "metadata": {},
   "outputs": [],
   "source": [
    "print(\"Top 10 customers by total download traffic:\")\n",
    "top_10_download.head(10)"
   ]
  },
  {
   "cell_type": "code",
   "execution_count": null,
   "metadata": {},
   "outputs": [],
   "source": [
    "print(\"Top 10 customers by total upload traffic:\")\n",
    "top_10_upload.head(10)"
   ]
  },
  {
   "cell_type": "markdown",
   "metadata": {},
   "source": []
  },
  {
   "cell_type": "code",
   "execution_count": null,
   "metadata": {},
   "outputs": [],
   "source": [
    "\n",
    "# Normalization \n",
    "columns_to_normalize = ['Dur. (s)', 'Total DL (Megabytes)', 'Total UL (Megabytes)', 'Session Frequency']\n",
    "scaler = MinMaxScaler()\n",
    "# Fit and transform the selected columns\n",
    "grouped_df[columns_to_normalize] = scaler.fit_transform(grouped_df[columns_to_normalize])"
   ]
  },
  {
   "cell_type": "code",
   "execution_count": null,
   "metadata": {},
   "outputs": [],
   "source": [
    "# K-Means Clustering with k=3\n",
    "\n",
    "kmeans = KMeans(n_clusters=3, random_state=42)\n",
    "grouped_df['Cluster'] = kmeans.fit_predict(grouped_df[columns_to_normalize])"
   ]
  },
  {
   "cell_type": "code",
   "execution_count": null,
   "metadata": {},
   "outputs": [],
   "source": [
    "#cluster centers to see the characteristics of each cluster\n",
    "print(\"Cluster Centers (Centroids):\")\n",
    "print(kmeans.cluster_centers_)"
   ]
  },
  {
   "cell_type": "markdown",
   "metadata": {},
   "source": [
    "Visualization Total Traffic vs Total Duration"
   ]
  },
  {
   "cell_type": "code",
   "execution_count": null,
   "metadata": {},
   "outputs": [],
   "source": [
    "plt.figure(figsize=(10, 6))\n",
    "plt.scatter(grouped_df['Dur. (s)'], grouped_df['Total Traffic (Megabytes)'], c=grouped_df['Cluster'], cmap='viridis')\n",
    "plt.title(\"Customer Engagement Clusters (k=3)\")\n",
    "plt.xlabel(\"Normalized Session Duration (s)\")\n",
    "plt.ylabel(\"Normalized Total Traffic (Megabytes)\")\n",
    "plt.colorbar(label='Cluster')\n",
    "plt.show()"
   ]
  },
  {
   "cell_type": "markdown",
   "metadata": {},
   "source": [
    "Visualization Total Traffic vs Total Session Frequency"
   ]
  },
  {
   "cell_type": "code",
   "execution_count": null,
   "metadata": {},
   "outputs": [],
   "source": [
    "plt.figure(figsize=(10, 6))\n",
    "plt.scatter(grouped_df['Session Frequency'], grouped_df['Total DL (Megabytes)'] + grouped_df['Total UL (Megabytes)'], \n",
    "            c=grouped_df['Cluster'], cmap='viridis')\n",
    "plt.title(\"Customer Engagement Clusters (k=3)\")\n",
    "plt.xlabel(\"Normalized Session Frequency\")\n",
    "plt.ylabel(\"Normalized Total Traffic (Megabytes)\")\n",
    "plt.colorbar(label='Cluster')\n",
    "plt.show()"
   ]
  },
  {
   "cell_type": "markdown",
   "metadata": {},
   "source": [
    "minimum, maximum, average & total non-normalized metrics for each cluster"
   ]
  },
  {
   "cell_type": "code",
   "execution_count": null,
   "metadata": {},
   "outputs": [],
   "source": [
    "cluster = grouped_df.groupby('Cluster').agg({\n",
    "    'Dur. (s)': ['min', 'max', 'mean', 'sum'],\n",
    "    'Total DL (Megabytes)': ['min', 'max', 'mean', 'sum'],\n",
    "    'Total UL (Megabytes)': ['min', 'max', 'mean', 'sum'],\n",
    "    'Session Frequency': ['min', 'max', 'mean', 'sum']\n",
    "}).reset_index()"
   ]
  },
  {
   "cell_type": "code",
   "execution_count": null,
   "metadata": {},
   "outputs": [],
   "source": [
    "# Plotting average total download traffic per cluster\n",
    "plt.figure(figsize=(10, 6))\n",
    "plt.bar(cluster_stats['Cluster'], cluster_stats['Total DL (Megabytes)']['mean'], color=['skyblue', 'orange', 'green'])\n",
    "plt.title(\"Average Total Download Traffic per Cluster\")\n",
    "plt.xlabel(\"Cluster\")\n",
    "plt.ylabel(\"Average Total Download Traffic (Megabytes)\")\n",
    "plt.show()"
   ]
  },
  {
   "cell_type": "code",
   "execution_count": null,
   "metadata": {},
   "outputs": [],
   "source": [
    "\n",
    "plt.figure(figsize=(10, 6))\n",
    "plt.bar(cluster_stats['Cluster'], cluster_stats['Dur. (s)']['mean'], color=['skyblue', 'orange', 'green'])\n",
    "plt.title(\"Average Session Duration per Cluster\")\n",
    "plt.xlabel(\"Cluster\")\n",
    "plt.ylabel(\"Average Session Duration (seconds)\")\n",
    "plt.show()"
   ]
  },
  {
   "cell_type": "markdown",
   "metadata": {},
   "source": [
    "Aggregation of user total traffic per application"
   ]
  },
  {
   "cell_type": "code",
   "execution_count": null,
   "metadata": {},
   "outputs": [],
   "source": [
    "applications = {\n",
    "    'Social Media': ('Social Media DL (Megabytes)', 'Social Media UL (Megabytes)'),\n",
    "    'Youtube': ('Youtube DL (Megabytes)', 'Youtube UL (Megabytes)'),\n",
    "    'Netflix': ('Netflix DL (Megabytes)', 'Netflix UL (Megabytes)'),\n",
    "    'Google': ('Google DL (Megabytes)', 'Google UL (Megabytes)'),\n",
    "    'Email': ('Email DL (Megabytes)', 'Email UL (Megabytes)'),\n",
    "    'Gaming': ('Gaming DL (Megabytes)', 'Gaming UL (Megabytes)'),\n",
    "    'Other': ('Other DL (Megabytes)', 'Other UL (Megabytes)')\n",
    "}"
   ]
  },
  {
   "cell_type": "code",
   "execution_count": null,
   "metadata": {},
   "outputs": [],
   "source": [
    "top_users_per_app = {}"
   ]
  },
  {
   "cell_type": "code",
   "execution_count": null,
   "metadata": {},
   "outputs": [],
   "source": [
    "for app, (dl_col, ul_col) in applications.items():\n",
    "    print(f\"\\nProcessing {app}...\")\n",
    "\n",
    "    # Check if the columns exist in the DataFrame\n",
    "    if dl_col in df.columns and ul_col in df.columns:\n",
    "        # Aggregate total traffic (DL + UL) per user\n",
    "        total_traffic_per_user = (\n",
    "            df.groupby('MSISDN/Number')[[dl_col, ul_col]]\n",
    "            .sum()\n",
    "            .sum(axis=1)  # Sum DL and UL\n",
    "            .reset_index(name='Total Traffic')\n",
    "            .sort_values(by='Total Traffic', ascending=False)\n",
    "            .head(10)\n",
    "        )\n",
    "        \n",
    "        # Store the top 10 users for the current application\n",
    "        top_users_per_app[app] = total_traffic_per_user\n",
    "        \n",
    "        # Print the top 10 users\n",
    "        print(f\"Top 10 Most Engaged Users for {app}:\")\n",
    "        print(total_traffic_per_user)\n",
    "        print(\"\\n\")\n",
    "    else:\n",
    "        print(f\"Columns '{dl_col}' or '{ul_col}' not found in DataFrame.\")\n",
    "        print(\"\\n\")"
   ]
  },
  {
   "cell_type": "code",
   "execution_count": null,
   "metadata": {},
   "outputs": [],
   "source": [
    "\n",
    "total_traffic_per_app = {}"
   ]
  },
  {
   "cell_type": "code",
   "execution_count": null,
   "metadata": {},
   "outputs": [],
   "source": [
    "# Plotting the top 3 most used applications\n",
    "\n",
    "# Calculate total traffic for each application\n",
    "for app, (dl_col, ul_col) in applications.items():\n",
    "    if dl_col in df.columns and ul_col in df.columns:\n",
    "        # Aggregate total traffic (DL + UL) per user\n",
    "        total_traffic = (\n",
    "            df[[dl_col, ul_col]]\n",
    "            .sum()  # Sum DL and UL for all users\n",
    "        ).sum()  # Sum across all applications\n",
    "        \n",
    "        # Store the total traffic for the current application\n",
    "        total_traffic_per_app[app] = total_traffic"
   ]
  },
  {
   "cell_type": "code",
   "execution_count": null,
   "metadata": {},
   "outputs": [],
   "source": [
    "# Convert the dictionary to a DataFrame for easier plotting\n",
    "traffic_df = pd.DataFrame(list(total_traffic_per_app.items()), columns=['Application', 'Total Traffic'])\n",
    "\n",
    "# Sort applications by total traffic and get the top 3\n",
    "top_3_apps = traffic_df.sort_values(by='Total Traffic', ascending=False).head(3)"
   ]
  },
  {
   "cell_type": "code",
   "execution_count": null,
   "metadata": {},
   "outputs": [],
   "source": [
    "# Plot the top 3 most used applications with a logarithmic scale\n",
    "plt.figure(figsize=(10, 6))\n",
    "plt.bar(top_3_apps['Application'], top_3_apps['Total Traffic'], color=['blue', 'green', 'red'])\n",
    "plt.yscale('log')  # Set y-axis to logarithmic scale\n",
    "plt.xlabel('Application')\n",
    "plt.ylabel('Total Traffic (Megabytes)')\n",
    "plt.title('Top 3 Most Used Applications (Log Scale)')\n",
    "plt.xticks(rotation=45)\n",
    "plt.tight_layout()\n",
    "plt.show()"
   ]
  },
  {
   "cell_type": "code",
   "execution_count": null,
   "metadata": {},
   "outputs": [],
   "source": [
    "# K-Means Clustering and Find Optimal k\n",
    "metrics = df[['Dur. (s)', 'Activity Duration DL (s)', 'Activity Duration UL (s)',\n",
    "                              'Total DL (Megabytes)', 'Total UL (Megabytes)',\n",
    "                              'Social Media DL (Megabytes)', 'Social Media UL (Megabytes)',\n",
    "                              'Youtube DL (Megabytes)', 'Youtube UL (Megabytes)',\n",
    "                              'Netflix DL (Megabytes)', 'Netflix UL (Megabytes)',\n",
    "                              'Google DL (Megabytes)', 'Google UL (Megabytes)',\n",
    "                              'Email DL (Megabytes)', 'Email UL (Megabytes)',\n",
    "                              'Gaming DL (Megabytes)', 'Gaming UL (Megabytes)',\n",
    "                              'Other DL (Megabytes)', 'Other UL (Megabytes)']]"
   ]
  },
  {
   "cell_type": "code",
   "execution_count": null,
   "metadata": {},
   "outputs": [],
   "source": [
    "# Normalizing the data\n",
    "scaler = StandardScaler()\n",
    "scaled_metrics = scaler.fit_transform(metrics)\n",
    "\n",
    "# Elbow Method to find the optimal number of clusters\n",
    "wcss = []\n",
    "k_range = range(1, 11)  # Trying k from 1 to 10"
   ]
  },
  {
   "cell_type": "code",
   "execution_count": null,
   "metadata": {},
   "outputs": [],
   "source": [
    "for i in k_range:\n",
    "    kmeans = KMeans(n_clusters=i, random_state=0)\n",
    "    kmeans.fit(scaled_metrics)\n",
    "    wcss.append(kmeans.inertia_)"
   ]
  },
  {
   "cell_type": "code",
   "execution_count": null,
   "metadata": {},
   "outputs": [],
   "source": [
    "# Plotting WCSS to find the elbow\n",
    "plt.figure(figsize=(10, 6))\n",
    "plt.plot(k_range, wcss, marker='o')\n",
    "plt.xlabel('Number of clusters (k)')\n",
    "plt.ylabel('WCSS')\n",
    "plt.title('Elbow Method for Optimal k')\n",
    "plt.xticks(k_range)\n",
    "plt.grid(True)\n",
    "plt.show()"
   ]
  },
  {
   "cell_type": "code",
   "execution_count": null,
   "metadata": {},
   "outputs": [],
   "source": [
    "optimal_k = 4"
   ]
  },
  {
   "cell_type": "code",
   "execution_count": null,
   "metadata": {},
   "outputs": [],
   "source": [
    "kmeans = KMeans(n_clusters=optimal_k, random_state=0)\n",
    "df['Cluster'] = kmeans.fit_predict(scaled_metrics)"
   ]
  },
  {
   "cell_type": "code",
   "execution_count": null,
   "metadata": {},
   "outputs": [],
   "source": [
    "# Analyze and interpret the results\n",
    "cluster_summary = df.groupby('Cluster').mean()"
   ]
  },
  {
   "cell_type": "code",
   "execution_count": null,
   "metadata": {},
   "outputs": [],
   "source": [
    "print(\"Cluster Summary:\")\n",
    "cluster_summary"
   ]
  }
 ],
 "metadata": {
  "language_info": {
   "name": "python"
  }
 },
 "nbformat": 4,
 "nbformat_minor": 2
}
